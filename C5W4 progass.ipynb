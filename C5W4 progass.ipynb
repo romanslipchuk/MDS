{
 "cells": [
  {
   "cell_type": "markdown",
   "metadata": {},
   "source": [
    "### Задание по программированию: Рекомендательные системы"
   ]
  },
  {
   "cell_type": "markdown",
   "metadata": {},
   "source": [
    "### Описание задачи\n",
    "\n",
    "Небольшой интернет-магазин попросил вас добавить ранжирование товаров в блок \"Смотрели ранее\" - в нем теперь надо показывать не последние просмотренные пользователем товары, а те товары из просмотренных, которые он наиболее вероятно купит. Качество вашего решения будет оцениваться по количеству покупок в сравнении с прошлым решением в ходе А/В теста, т.к. по доходу от продаж статзначимость будет достигаться дольше из-за разброса цен. Таким образом, ничего заранее не зная про корреляцию оффлайновых и онлайновых метрик качества, в начале проекта вы можете лишь постараться оптимизировать recall@k и precision@k.\n",
    "\n",
    "Это задание посвящено построению простых бейзлайнов для этой задачи: ранжирование просмотренных товаров по частоте просмотров и по частоте покупок. Эти бейзлайны, с одной стороны, могут помочь вам грубо оценить возможный эффект от ранжирования товаров в блоке - например, чтобы вписать какие-то числа в коммерческое предложение заказчику, а с другой стороны, могут оказаться самым хорошим вариантом, если данных очень мало (недостаточно для обучения даже простых моделей).\n",
    "\n",
    "### Входные данные\n",
    "\n",
    "Вам дается две выборки с пользовательскими сессиями - id-шниками просмотренных и id-шниками купленных товаров. Одна выборка будет использоваться для обучения (оценки популярностей товаров), а другая - для теста.\n",
    "\n",
    "В файлах записаны сессии по одной в каждой строке. Формат сессии: id просмотренных товаров через , затем идёт ; после чего следуют id купленных товаров (если такие имеются), разделённые запятой. Например, 1,2,3,4; или 1,2,3,4;5,6.\n",
    "\n",
    "Гарантируется, что среди id купленных товаров все различные.\n",
    "\n",
    "Важно:\n",
    "\n",
    "    Сессии, в которых пользователь ничего не купил, исключаем из оценки качества.\n",
    "    Если товар не встречался в обучающей выборке, его популярность равна 0.\n",
    "    Рекомендуем разные товары. И их число должно быть не больше, чем количество различных просмотренных пользователем товаров.\n",
    "    Рекомендаций всегда не больше, чем минимум из двух чисел: количество просмотренных пользователем товаров и k в recall@k / precision@k.\n",
    "\n",
    "### Задание\n",
    "\n",
    "    На обучении постройте частоты появления id в просмотренных и в купленных (id может несколько раз появляться в просмотренных, все появления надо учитывать)\n",
    "    Реализуйте два алгоритма рекомендаций:\n",
    "\n",
    "    сортировка просмотренных id по популярности (частота появления в просмотренных),\n",
    "    сортировка просмотренных id по покупаемости (частота появления в покупках).\n",
    "\n",
    "3. Для данных алгоритмов выпишите через пробел AverageRecall@1, AveragePrecision@1, AverageRecall@5, AveragePrecision@5 на обучающей и тестовых выборках, округляя до 2 знака после запятой. Это будут ваши ответы в этом задании. Посмотрите, как они соотносятся друг с другом. Где качество получилось выше? Значимо ли это различие? Обратите внимание на различие качества на обучающей и тестовой выборке в случае рекомендаций по частотам покупки.\n",
    "\n",
    "Если частота одинаковая, то сортировать нужно по возрастанию момента просмотра (чем раньше появился в просмотренных, тем больше приоритет)\n",
    "\n",
    "Дополнительные вопросы\n",
    "\n",
    "    Обратите внимание, что при сортировке по покупаемости возникает много товаров с одинаковым рангом - это означает, что значение метрик будет зависеть от того, как мы будем сортировать товары с одинаковым рангом. Попробуйте убедиться, что при изменении сортировки таких товаров recall@k меняется. Подумайте, как оценить минимальное и максимальное значение recall@k в зависимости от правила сортировки.\n",
    "    Мы обучаемся и тестируемся на полных сессиях (в которых есть все просмотренные за сессию товары). Подумайте, почему полученная нами оценка качества рекомендаций в этом случае несколько завышена."
   ]
  },
  {
   "cell_type": "code",
   "execution_count": 1,
   "metadata": {},
   "outputs": [],
   "source": [
    "# import things\n",
    "from collections import Counter, OrderedDict\n",
    "import numpy as np\n",
    "import pandas as pd"
   ]
  },
  {
   "cell_type": "code",
   "execution_count": 2,
   "metadata": {},
   "outputs": [],
   "source": [
    "#create counters for frequence dictionaries\n",
    "view_counter = Counter()\n",
    "purchase_counter = Counter()\n",
    "\n",
    "with open('train.txt', 'r') as f:                            # open file\n",
    "    for line in f.readlines():                               # read line\n",
    "        views, purchases = line.strip().split(';')           # split to views and purchases\n",
    "        for view in views.split(','):                        # split into individual viewed items\n",
    "            view_counter[view] += 1                          # add it to view_counter dictionary\n",
    "        if purchases != '':                                  # check if there were a purchase\n",
    "            for purchase in purchases.split(','):            # split into individual purchased items\n",
    "                purchase_counter[purchase] += 1              # add item to purchase_counter dictionary\n",
    "\n"
   ]
  },
  {
   "cell_type": "code",
   "execution_count": 3,
   "metadata": {},
   "outputs": [],
   "source": [
    "def calculate_metrics(is_view, file):\n",
    "    '''\n",
    "    is_view - selection for different calculations: for viewed item, or purchased\n",
    "    file - filepath to session data\n",
    "    '''\n",
    "    if is_view == True:\n",
    "        dictionary = view_counter\n",
    "    else:\n",
    "        dictionary = purchase_counter\n",
    "    k = 5   # lenght of k\n",
    "    with open(file, 'r') as f:     # open datafile\n",
    "        AR = np.zeros(k)           # empty array for RECALL sum\n",
    "        AP = np.zeros(k)           # empty array for PRECISION sum\n",
    "        sessions_count = 0         # session counter to calculate average values\n",
    "        for line in f.readlines():\n",
    "            views, purchases = line.strip().split(';')\n",
    "            if purchases != '':\n",
    "                views = views.split(',')\n",
    "                purchases = set(purchases.split(','))     # remove doubles from purchases\n",
    "                rec = sorted(OrderedDict.fromkeys(views), key=lambda x: dictionary.get(x, 0),reverse=True)[:5]# sorted by dictionaries list\n",
    "                rec_hits = np.array(list(map(lambda x: x in purchases, rec))) #intersection between purchases and sorted list\n",
    "                matches = np.zeros(k)                  \n",
    "                matches[:len(rec_hits)] = rec_hits     #number of matches between two lists\n",
    "                sessions_count += 1\n",
    "                AR +=  np.cumsum(matches) / len(purchases)\n",
    "                AP += np.cumsum(matches) / (np.arange(k) + 1)\n",
    "\n",
    "    for k in range(1, 6, 4):\n",
    "        print('AR@{}: {}'.format(k,[round(x, 2) for x in AR / sessions_count][k-1]))\n",
    "        print('AP@{}: {}'.format(k,[round(x, 2) for x in AP / sessions_count][k-1]))"
   ]
  },
  {
   "cell_type": "markdown",
   "metadata": {},
   "source": [
    "### AverageRecall@1, AveragePrecision@1, AverageRecall@5, AveragePrecision@5"
   ]
  },
  {
   "cell_type": "code",
   "execution_count": 4,
   "metadata": {
    "scrolled": false
   },
   "outputs": [
    {
     "name": "stdout",
     "output_type": "stream",
     "text": [
      "AR@1: 0.44\n",
      "AP@1: 0.51\n",
      "AR@5: 0.82\n",
      "AP@5: 0.21\n"
     ]
    }
   ],
   "source": [
    "# views_popularity_train\n",
    "calculate_metrics(True, 'train.txt')"
   ]
  },
  {
   "cell_type": "code",
   "execution_count": 5,
   "metadata": {
    "scrolled": true
   },
   "outputs": [
    {
     "name": "stdout",
     "output_type": "stream",
     "text": [
      "AR@1: 0.42\n",
      "AP@1: 0.48\n",
      "AR@5: 0.8\n",
      "AP@5: 0.2\n"
     ]
    }
   ],
   "source": [
    "# views_popularity_test\n",
    "calculate_metrics(True, 'test.txt')"
   ]
  },
  {
   "cell_type": "code",
   "execution_count": 6,
   "metadata": {
    "scrolled": true
   },
   "outputs": [
    {
     "name": "stdout",
     "output_type": "stream",
     "text": [
      "AR@1: 0.69\n",
      "AP@1: 0.8\n",
      "AR@5: 0.93\n",
      "AP@5: 0.25\n"
     ]
    }
   ],
   "source": [
    "# purchases_popularity_train\n",
    "calculate_metrics(False, 'train.txt')"
   ]
  },
  {
   "cell_type": "code",
   "execution_count": 7,
   "metadata": {
    "scrolled": true
   },
   "outputs": [
    {
     "name": "stdout",
     "output_type": "stream",
     "text": [
      "AR@1: 0.46\n",
      "AP@1: 0.53\n",
      "AR@5: 0.82\n",
      "AP@5: 0.21\n"
     ]
    }
   ],
   "source": [
    "# purchases_popularity_test\n",
    "calculate_metrics(False, 'test.txt')"
   ]
  },
  {
   "cell_type": "code",
   "execution_count": null,
   "metadata": {},
   "outputs": [],
   "source": []
  }
 ],
 "metadata": {
  "kernelspec": {
   "display_name": "Python 3",
   "language": "python",
   "name": "python3"
  },
  "language_info": {
   "codemirror_mode": {
    "name": "ipython",
    "version": 3
   },
   "file_extension": ".py",
   "mimetype": "text/x-python",
   "name": "python",
   "nbconvert_exporter": "python",
   "pygments_lexer": "ipython3",
   "version": "3.7.4"
  }
 },
 "nbformat": 4,
 "nbformat_minor": 2
}
