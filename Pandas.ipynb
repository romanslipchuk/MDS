{
  "nbformat": 4,
  "nbformat_minor": 0,
  "metadata": {
    "colab": {
      "name": "Pandas.ipynb",
      "version": "0.3.2",
      "provenance": [],
      "include_colab_link": true
    },
    "language_info": {
      "codemirror_mode": {
        "name": "ipython",
        "version": 3
      },
      "file_extension": ".py",
      "mimetype": "text/x-python",
      "name": "python",
      "nbconvert_exporter": "python",
      "pygments_lexer": "ipython3",
      "version": "3.6.4"
    },
    "kernelspec": {
      "display_name": "Python 3",
      "language": "python",
      "name": "python3"
    }
  },
  "cells": [
    {
      "cell_type": "markdown",
      "metadata": {
        "id": "view-in-github",
        "colab_type": "text"
      },
      "source": [
        "<a href=\"https://colab.research.google.com/github/romanslipchuk/MDS-Pandas/blob/master/Pandas.ipynb\" target=\"_parent\"><img src=\"https://colab.research.google.com/assets/colab-badge.svg\" alt=\"Open In Colab\"/></a>"
      ]
    },
    {
      "cell_type": "markdown",
      "metadata": {
        "id": "7ebI_wJ7Knw0",
        "colab_type": "text"
      },
      "source": [
        "Тетрадка предназначена для студентов образвательного проекта Booster MDS использование вне проекта запрещено."
      ]
    },
    {
      "cell_type": "markdown",
      "metadata": {
        "id": "TV5reo8zKnw4",
        "colab_type": "text"
      },
      "source": [
        "##### Задания не несут смысловой нагрузки для реальной жизни, они сделаны лишь для того, чтоб научить использовать Pandas"
      ]
    },
    {
      "cell_type": "markdown",
      "metadata": {
        "id": "alMDzzp9Knw7",
        "colab_type": "text"
      },
      "source": [
        "#### Каждое задание оценивает в 1 балл, для успешной сдачи задания нужно набрать 12 баллов"
      ]
    },
    {
      "cell_type": "markdown",
      "metadata": {
        "id": "P7bP3fF1Knw8",
        "colab_type": "text"
      },
      "source": [
        "This database contains 76 attributes, but all published experiments refer to using a subset of 14 of them. In particular, the Cleveland database is the only one that has been used by ML researchers to this date. The \"goal\" field refers to the presence of heart disease in the patient. It is integer valued from 0 (no presence) to 1."
      ]
    },
    {
      "cell_type": "markdown",
      "metadata": {
        "id": "Gv8qOryyKnxA",
        "colab_type": "text"
      },
      "source": [
        "https://www.kaggle.com/ronitf/heart-disease-uci"
      ]
    },
    {
      "cell_type": "markdown",
      "metadata": {
        "id": "lpd5vF00KnxB",
        "colab_type": "text"
      },
      "source": [
        "___"
      ]
    },
    {
      "cell_type": "code",
      "metadata": {
        "id": "qaVMhQF6KnxE",
        "colab_type": "code",
        "outputId": "ff5d2c64-6e40-41be-d211-299a64aad5ec",
        "colab": {
          "base_uri": "https://localhost:8080/",
          "height": 36
        }
      },
      "source": [
        "import pandas as pd\n",
        "import numpy as np\n",
        "import os\n",
        "print(os.path)"
      ],
      "execution_count": 0,
      "outputs": [
        {
          "output_type": "stream",
          "text": [
            "<module 'posixpath' from '/usr/lib/python3.6/posixpath.py'>\n"
          ],
          "name": "stdout"
        }
      ]
    },
    {
      "cell_type": "code",
      "metadata": {
        "id": "NpXnMCW6KnxK",
        "colab_type": "code",
        "colab": {}
      },
      "source": [
        "data = pd.read_csv('https://drive.google.com/uc?export=download&id=1eNFlps9YaZZKsH4kgABg4iJUWTCBo98Y')"
      ],
      "execution_count": 0,
      "outputs": []
    },
    {
      "cell_type": "code",
      "metadata": {
        "id": "w4_vJOxzKnxP",
        "colab_type": "code",
        "outputId": "ff5dfb75-42fd-4130-8f25-a5f3f1a8afd4",
        "colab": {
          "base_uri": "https://localhost:8080/",
          "height": 206
        }
      },
      "source": [
        "data.head()"
      ],
      "execution_count": 0,
      "outputs": [
        {
          "output_type": "execute_result",
          "data": {
            "text/html": [
              "<div>\n",
              "<style scoped>\n",
              "    .dataframe tbody tr th:only-of-type {\n",
              "        vertical-align: middle;\n",
              "    }\n",
              "\n",
              "    .dataframe tbody tr th {\n",
              "        vertical-align: top;\n",
              "    }\n",
              "\n",
              "    .dataframe thead th {\n",
              "        text-align: right;\n",
              "    }\n",
              "</style>\n",
              "<table border=\"1\" class=\"dataframe\">\n",
              "  <thead>\n",
              "    <tr style=\"text-align: right;\">\n",
              "      <th></th>\n",
              "      <th>age</th>\n",
              "      <th>sex</th>\n",
              "      <th>chest_pain_type</th>\n",
              "      <th>resting_blood_pressure</th>\n",
              "      <th>cholesterol</th>\n",
              "      <th>fasting_blood_sugar</th>\n",
              "      <th>rest_ecg</th>\n",
              "      <th>max_heart_rate_achieved</th>\n",
              "      <th>exercise_induced_angina</th>\n",
              "      <th>st_depression</th>\n",
              "      <th>st_slope</th>\n",
              "      <th>num_major_vessels</th>\n",
              "      <th>thalassemia</th>\n",
              "      <th>target</th>\n",
              "    </tr>\n",
              "  </thead>\n",
              "  <tbody>\n",
              "    <tr>\n",
              "      <th>0</th>\n",
              "      <td>63</td>\n",
              "      <td>male</td>\n",
              "      <td>non-anginal pain</td>\n",
              "      <td>145</td>\n",
              "      <td>233</td>\n",
              "      <td>greater than 120mg/ml</td>\n",
              "      <td>normal</td>\n",
              "      <td>150</td>\n",
              "      <td>no</td>\n",
              "      <td>2.3</td>\n",
              "      <td>upsloping</td>\n",
              "      <td>0</td>\n",
              "      <td>normal</td>\n",
              "      <td>1</td>\n",
              "    </tr>\n",
              "    <tr>\n",
              "      <th>1</th>\n",
              "      <td>37</td>\n",
              "      <td>male</td>\n",
              "      <td>atypical angina</td>\n",
              "      <td>130</td>\n",
              "      <td>250</td>\n",
              "      <td>lower than 120mg/ml</td>\n",
              "      <td>ST-T wave abnormality</td>\n",
              "      <td>187</td>\n",
              "      <td>no</td>\n",
              "      <td>3.5</td>\n",
              "      <td>upsloping</td>\n",
              "      <td>0</td>\n",
              "      <td>fixed defect</td>\n",
              "      <td>1</td>\n",
              "    </tr>\n",
              "    <tr>\n",
              "      <th>2</th>\n",
              "      <td>41</td>\n",
              "      <td>female</td>\n",
              "      <td>typical angina</td>\n",
              "      <td>130</td>\n",
              "      <td>204</td>\n",
              "      <td>lower than 120mg/ml</td>\n",
              "      <td>normal</td>\n",
              "      <td>172</td>\n",
              "      <td>no</td>\n",
              "      <td>1.4</td>\n",
              "      <td>flat</td>\n",
              "      <td>0</td>\n",
              "      <td>fixed defect</td>\n",
              "      <td>1</td>\n",
              "    </tr>\n",
              "    <tr>\n",
              "      <th>3</th>\n",
              "      <td>56</td>\n",
              "      <td>male</td>\n",
              "      <td>typical angina</td>\n",
              "      <td>120</td>\n",
              "      <td>236</td>\n",
              "      <td>lower than 120mg/ml</td>\n",
              "      <td>ST-T wave abnormality</td>\n",
              "      <td>178</td>\n",
              "      <td>no</td>\n",
              "      <td>0.8</td>\n",
              "      <td>flat</td>\n",
              "      <td>0</td>\n",
              "      <td>fixed defect</td>\n",
              "      <td>1</td>\n",
              "    </tr>\n",
              "    <tr>\n",
              "      <th>4</th>\n",
              "      <td>57</td>\n",
              "      <td>female</td>\n",
              "      <td>typical angina</td>\n",
              "      <td>120</td>\n",
              "      <td>354</td>\n",
              "      <td>lower than 120mg/ml</td>\n",
              "      <td>ST-T wave abnormality</td>\n",
              "      <td>163</td>\n",
              "      <td>yes</td>\n",
              "      <td>0.6</td>\n",
              "      <td>flat</td>\n",
              "      <td>0</td>\n",
              "      <td>fixed defect</td>\n",
              "      <td>1</td>\n",
              "    </tr>\n",
              "  </tbody>\n",
              "</table>\n",
              "</div>"
            ],
            "text/plain": [
              "   age     sex   chest_pain_type  ...  num_major_vessels   thalassemia target\n",
              "0   63    male  non-anginal pain  ...                  0        normal      1\n",
              "1   37    male   atypical angina  ...                  0  fixed defect      1\n",
              "2   41  female    typical angina  ...                  0  fixed defect      1\n",
              "3   56    male    typical angina  ...                  0  fixed defect      1\n",
              "4   57  female    typical angina  ...                  0  fixed defect      1\n",
              "\n",
              "[5 rows x 14 columns]"
            ]
          },
          "metadata": {
            "tags": []
          },
          "execution_count": 39
        }
      ]
    },
    {
      "cell_type": "markdown",
      "metadata": {
        "id": "ytr5LdNzKnxX",
        "colab_type": "text"
      },
      "source": [
        "#### Описание признаков"
      ]
    },
    {
      "cell_type": "markdown",
      "metadata": {
        "id": "REIwGhwaKnxZ",
        "colab_type": "text"
      },
      "source": [
        "**age**: The person's age in years\n",
        "\n",
        "**sex**: The person's sex (1 = male, 0 = female)\n",
        "\n",
        "**cp**: The chest pain experienced (Value 1: typical angina, Value 2: atypical angina, Value 3: non-anginal pain, Value 4: asymptomatic)\n",
        "\n",
        "**trestbps**: The person's resting blood pressure (mm Hg on admission to the hospital)\n",
        "\n",
        "**chol**: The person's cholesterol measurement in mg/dl\n",
        "\n",
        "**fbs**: The person's fasting blood sugar (> 120 mg/dl, 1 = true; 0 = false)\n",
        "\n",
        "**restecg**: Resting electrocardiographic measurement (0 = normal, 1 = having ST-T wave abnormality, 2 = showing probable or definite left ventricular hypertrophy by Estes' criteria)\n",
        "\n",
        "**thalach**: The person's maximum heart rate achieved\n",
        "\n",
        "**exang**: Exercise induced angina (1 = yes; 0 = no)\n",
        "\n",
        "**oldpeak**: ST depression induced by exercise relative to rest ('ST' relates to positions on the ECG plot. See more here)\n",
        "\n",
        "**slope**: the slope of the peak exercise ST segment (Value 1: upsloping, Value 2: flat, Value 3: downsloping)\n",
        "\n",
        "**ca**: The number of major vessels (0-3)\n",
        "\n",
        "**thal**: A blood disorder called thalassemia (3 = normal; 6 = fixed defect; 7 = reversable defect)\n",
        "\n",
        "**target**: Heart disease (0 = no, 1 = yes)"
      ]
    },
    {
      "cell_type": "markdown",
      "metadata": {
        "id": "bygPOwPhKnxb",
        "colab_type": "text"
      },
      "source": [
        "> 1. age \n",
        "> 2. sex \n",
        "> 3. chest pain type (4 values) \n",
        "> 4. resting blood pressure \n",
        "> 5. serum cholestoral in mg/dl \n",
        "> 6. fasting blood sugar > 120 mg/dl\n",
        "> 7. resting electrocardiographic results (values 0,1,2)\n",
        "> 8. maximum heart rate achieved \n",
        "> 9. exercise induced angina \n",
        "> 10. oldpeak = ST depression induced by exercise relative to rest \n",
        "> 11. the slope of the peak exercise ST segment \n",
        "> 12. number of major vessels (0-3) colored by flourosopy \n",
        "> 13. thal: 3 = normal; 6 = fixed defect; 7 = reversable defect"
      ]
    },
    {
      "cell_type": "markdown",
      "metadata": {
        "id": "DnAxaefpKnxc",
        "colab_type": "text"
      },
      "source": [
        "___"
      ]
    },
    {
      "cell_type": "markdown",
      "metadata": {
        "id": "A2a64etGKnxc",
        "colab_type": "text"
      },
      "source": [
        "**Сколько мужчин в датасете? Сколько женщен? (sex) **"
      ]
    },
    {
      "cell_type": "code",
      "metadata": {
        "id": "OYYEej-4Knxe",
        "colab_type": "code",
        "outputId": "86cdc7e5-e20a-4a20-b4af-ad5a7e181dcb",
        "colab": {
          "base_uri": "https://localhost:8080/",
          "height": 74
        }
      },
      "source": [
        "## Ваш код\n",
        "data['sex'].value_counts()"
      ],
      "execution_count": 0,
      "outputs": [
        {
          "output_type": "execute_result",
          "data": {
            "text/plain": [
              "male      207\n",
              "female     96\n",
              "Name: sex, dtype: int64"
            ]
          },
          "metadata": {
            "tags": []
          },
          "execution_count": 23
        }
      ]
    },
    {
      "cell_type": "code",
      "metadata": {
        "id": "uG6fzYbaKnxj",
        "colab_type": "code",
        "colab": {}
      },
      "source": [
        "## Ваш ответ:\n",
        "male      207\n",
        "female     96"
      ],
      "execution_count": 0,
      "outputs": []
    },
    {
      "cell_type": "markdown",
      "metadata": {
        "id": "82PFyZdoKnxn",
        "colab_type": "text"
      },
      "source": [
        " **Какой процент мужчин в датасете? (решите в одну строчку, не используя предыдущий результат. Не забудте знак процента) **"
      ]
    },
    {
      "cell_type": "code",
      "metadata": {
        "id": "yoN6lIWWKnxo",
        "colab_type": "code",
        "outputId": "5bcc4161-c5b8-4570-a972-e5c4b662a6e9",
        "colab": {
          "base_uri": "https://localhost:8080/",
          "height": 36
        }
      },
      "source": [
        "## Ваш код\n",
        "print('{:.2%}'.format(data['sex'].value_counts(normalize=True)[0]))"
      ],
      "execution_count": 0,
      "outputs": [
        {
          "output_type": "stream",
          "text": [
            "68.32%\n"
          ],
          "name": "stdout"
        }
      ]
    },
    {
      "cell_type": "code",
      "metadata": {
        "id": "-Y9HO8MdKnxt",
        "colab_type": "code",
        "colab": {}
      },
      "source": [
        "## Ваш ответ:\n",
        "68.32%"
      ],
      "execution_count": 0,
      "outputs": []
    },
    {
      "cell_type": "markdown",
      "metadata": {
        "id": "_v6YDL0yKnxx",
        "colab_type": "text"
      },
      "source": [
        "**Сколько мужчин имеют заболевание сердца? Сколько женщин имеют заболевание сердца? **"
      ]
    },
    {
      "cell_type": "code",
      "metadata": {
        "id": "yoRj7e28Knxz",
        "colab_type": "code",
        "outputId": "36d57f14-3a1c-4dbc-958a-92e0efbdf36d",
        "colab": {
          "base_uri": "https://localhost:8080/",
          "height": 55
        }
      },
      "source": [
        "## Ваш код\n",
        "print('Male with heart desiase = {}'.format(len(data[(data['sex']=='male') & (data['target']==1)])))\n",
        "print('Female with heart desiase = {}'.format(data[data['sex']=='female']['target'].sum()))\n"
      ],
      "execution_count": 0,
      "outputs": [
        {
          "output_type": "stream",
          "text": [
            "Male with heart desiase = 93\n",
            "Female with heart desiase = 72\n"
          ],
          "name": "stdout"
        }
      ]
    },
    {
      "cell_type": "code",
      "metadata": {
        "id": "3eLY8xjOKnx3",
        "colab_type": "code",
        "colab": {}
      },
      "source": [
        "## Ваш ответ:\n",
        "Male with heart desiase = 93\n",
        "Female with heart desiase = 72"
      ],
      "execution_count": 0,
      "outputs": []
    },
    {
      "cell_type": "markdown",
      "metadata": {
        "id": "HFPPM13zKnx9",
        "colab_type": "text"
      },
      "source": [
        "**Какую долю, от общего числа пациентов, занимают мужчины не имеющие болезнь сердца?**"
      ]
    },
    {
      "cell_type": "code",
      "metadata": {
        "id": "PH2GiS93Knx_",
        "colab_type": "code",
        "outputId": "a35da455-0de2-4747-953c-11946fa0dc8d",
        "colab": {
          "base_uri": "https://localhost:8080/",
          "height": 36
        }
      },
      "source": [
        "## Ваш код\n",
        "ok_man_perc = len(data[(data.sex == 'male') & (data.target == 0)]) / len(data)\n",
        "print('{:.2%}'.format(ok_man_perc))"
      ],
      "execution_count": 0,
      "outputs": [
        {
          "output_type": "stream",
          "text": [
            "37.62%\n"
          ],
          "name": "stdout"
        }
      ]
    },
    {
      "cell_type": "code",
      "metadata": {
        "id": "eT0TI3m6KnyF",
        "colab_type": "code",
        "colab": {}
      },
      "source": [
        "## Ваш ответ:\n",
        "37.62%"
      ],
      "execution_count": 0,
      "outputs": []
    },
    {
      "cell_type": "markdown",
      "metadata": {
        "id": "k-3XiYi1KnyK",
        "colab_type": "text"
      },
      "source": [
        "**Сколько лет самому молодому пациенту, страдающему болезнью сердца?**"
      ]
    },
    {
      "cell_type": "code",
      "metadata": {
        "id": "ysb3DsgdKnyL",
        "colab_type": "code",
        "outputId": "d2d96611-1895-4f57-a0bc-43e2f856a2a2",
        "colab": {
          "base_uri": "https://localhost:8080/",
          "height": 36
        }
      },
      "source": [
        "## Ваш код\n",
        "data[data['target']==1]['age'].min()"
      ],
      "execution_count": 0,
      "outputs": [
        {
          "output_type": "execute_result",
          "data": {
            "text/plain": [
              "29"
            ]
          },
          "metadata": {
            "tags": []
          },
          "execution_count": 38
        }
      ]
    },
    {
      "cell_type": "code",
      "metadata": {
        "id": "TZHvidN8KnyQ",
        "colab_type": "code",
        "colab": {}
      },
      "source": [
        "## Ваш ответ:\n",
        "29"
      ],
      "execution_count": 0,
      "outputs": []
    },
    {
      "cell_type": "markdown",
      "metadata": {
        "id": "TyIA4aisKnyU",
        "colab_type": "text"
      },
      "source": [
        "**Сколько лет самому возастному пациенту, у которого нет проблем с сердцем?**"
      ]
    },
    {
      "cell_type": "code",
      "metadata": {
        "id": "lnAHgmBGKnyV",
        "colab_type": "code",
        "outputId": "cee762de-b09a-4560-f5be-186a4495af00",
        "colab": {
          "base_uri": "https://localhost:8080/",
          "height": 36
        }
      },
      "source": [
        "## Ваш код\n",
        "data[data['target'] == 0]['age'].max()"
      ],
      "execution_count": 0,
      "outputs": [
        {
          "output_type": "execute_result",
          "data": {
            "text/plain": [
              "77"
            ]
          },
          "metadata": {
            "tags": []
          },
          "execution_count": 39
        }
      ]
    },
    {
      "cell_type": "code",
      "metadata": {
        "id": "FknF2IpSKnyZ",
        "colab_type": "code",
        "colab": {}
      },
      "source": [
        "## Ваш ответ:\n",
        "77"
      ],
      "execution_count": 0,
      "outputs": []
    },
    {
      "cell_type": "markdown",
      "metadata": {
        "id": "R4NAAc2LKnyd",
        "colab_type": "text"
      },
      "source": [
        "**Сколько лет самой молодой женщине, которая страдает болезнью сердца?**"
      ]
    },
    {
      "cell_type": "code",
      "metadata": {
        "id": "WtN8s1QaKnye",
        "colab_type": "code",
        "outputId": "cf44fbe8-21dd-4ba1-9c44-d0b0ab0c6a42",
        "colab": {
          "base_uri": "https://localhost:8080/",
          "height": 36
        }
      },
      "source": [
        "## Ваш код\n",
        "data[(data['sex']=='female') & (data['target']==1)]['age'].min()"
      ],
      "execution_count": 0,
      "outputs": [
        {
          "output_type": "execute_result",
          "data": {
            "text/plain": [
              "34"
            ]
          },
          "metadata": {
            "tags": []
          },
          "execution_count": 41
        }
      ]
    },
    {
      "cell_type": "code",
      "metadata": {
        "id": "yNcBaZ3sKnyg",
        "colab_type": "code",
        "colab": {}
      },
      "source": [
        "## Ваш ответ:\n",
        "34"
      ],
      "execution_count": 0,
      "outputs": []
    },
    {
      "cell_type": "markdown",
      "metadata": {
        "id": "LODw9H2OKnyk",
        "colab_type": "text"
      },
      "source": [
        "**Какой средний возраст женщин?**"
      ]
    },
    {
      "cell_type": "code",
      "metadata": {
        "id": "l8EXCgU3Knyk",
        "colab_type": "code",
        "outputId": "93e97236-1640-4f03-a935-0d4e8254604f",
        "colab": {
          "base_uri": "https://localhost:8080/",
          "height": 36
        }
      },
      "source": [
        "## Ваш код\n",
        "data[data['sex']=='female']['age'].mean()"
      ],
      "execution_count": 0,
      "outputs": [
        {
          "output_type": "execute_result",
          "data": {
            "text/plain": [
              "55.677083333333336"
            ]
          },
          "metadata": {
            "tags": []
          },
          "execution_count": 44
        }
      ]
    },
    {
      "cell_type": "code",
      "metadata": {
        "id": "Fa24fcyYKnyo",
        "colab_type": "code",
        "colab": {}
      },
      "source": [
        "## Ваш ответ:\n",
        "55.677083333333336"
      ],
      "execution_count": 0,
      "outputs": []
    },
    {
      "cell_type": "markdown",
      "metadata": {
        "id": "vmMfnIbFKnyr",
        "colab_type": "text"
      },
      "source": [
        "**Каковы средние значения и среднеквадратичные отклонения возраста тех, кто страдают болезнью сердца?**"
      ]
    },
    {
      "cell_type": "code",
      "metadata": {
        "id": "6maENvXlKnys",
        "colab_type": "code",
        "outputId": "e97d3b55-29bb-4898-a87c-d9335fc11570",
        "colab": {
          "base_uri": "https://localhost:8080/",
          "height": 55
        }
      },
      "source": [
        "## Ваш код\n",
        "print('Mean age with HD is:{}'.format(data[data['target']==1]['age'].mean()))\n",
        "print('STD is:{}'.format(data[data['target']==1]['age'].std()))\n"
      ],
      "execution_count": 0,
      "outputs": [
        {
          "output_type": "stream",
          "text": [
            "Mean age with HD is:52.4969696969697\n",
            "STD is:9.550650751946778\n"
          ],
          "name": "stdout"
        }
      ]
    },
    {
      "cell_type": "code",
      "metadata": {
        "id": "IGYrldjnKnyv",
        "colab_type": "code",
        "colab": {}
      },
      "source": [
        "## Ваш ответ:\n",
        "Mean age with HD is:52.4969696969697\n",
        "STD is:9.550650751946778"
      ],
      "execution_count": 0,
      "outputs": []
    },
    {
      "cell_type": "markdown",
      "metadata": {
        "id": "MhC4Nd9dKny0",
        "colab_type": "text"
      },
      "source": [
        "** Правда ли, что люди не болеющие болезнью сердца имеют уровень холестерина меньше среднего? (chol) **"
      ]
    },
    {
      "cell_type": "code",
      "metadata": {
        "id": "CccGQefQKny2",
        "colab_type": "code",
        "outputId": "3d7d6b3b-b230-4ac6-dff5-d2eea2abb777",
        "colab": {
          "base_uri": "https://localhost:8080/",
          "height": 36
        }
      },
      "source": [
        "## Ваш код\n",
        "print(data[data['target']==0]['cholesterol'].mean() < data['cholesterol'].mean())"
      ],
      "execution_count": 0,
      "outputs": [
        {
          "output_type": "stream",
          "text": [
            "False\n"
          ],
          "name": "stdout"
        }
      ]
    },
    {
      "cell_type": "code",
      "metadata": {
        "id": "ZBxt-blzKny6",
        "colab_type": "code",
        "colab": {}
      },
      "source": [
        "## Ваш ответ:"
      ],
      "execution_count": 0,
      "outputs": []
    },
    {
      "cell_type": "markdown",
      "metadata": {
        "id": "v5-Ug1DZKny9",
        "colab_type": "text"
      },
      "source": [
        "**Выведите статистику rest_ecg для все числовых признаков, его максимально и среднее значение (используйте groupby(), решите в одну строчку)**"
      ]
    },
    {
      "cell_type": "code",
      "metadata": {
        "id": "oal-IF0SKny_",
        "colab_type": "code",
        "outputId": "c0939dd3-4a39-4212-bf08-d3caaad7b682",
        "colab": {
          "base_uri": "https://localhost:8080/",
          "height": 206
        }
      },
      "source": [
        "## Ваш код\n",
        "data.groupby('rest_ecg').agg([np.mean,np.max])"
      ],
      "execution_count": 0,
      "outputs": [
        {
          "output_type": "execute_result",
          "data": {
            "text/html": [
              "<div>\n",
              "<style scoped>\n",
              "    .dataframe tbody tr th:only-of-type {\n",
              "        vertical-align: middle;\n",
              "    }\n",
              "\n",
              "    .dataframe tbody tr th {\n",
              "        vertical-align: top;\n",
              "    }\n",
              "\n",
              "    .dataframe thead tr th {\n",
              "        text-align: left;\n",
              "    }\n",
              "\n",
              "    .dataframe thead tr:last-of-type th {\n",
              "        text-align: right;\n",
              "    }\n",
              "</style>\n",
              "<table border=\"1\" class=\"dataframe\">\n",
              "  <thead>\n",
              "    <tr>\n",
              "      <th></th>\n",
              "      <th colspan=\"2\" halign=\"left\">age</th>\n",
              "      <th colspan=\"2\" halign=\"left\">resting_blood_pressure</th>\n",
              "      <th colspan=\"2\" halign=\"left\">cholesterol</th>\n",
              "      <th colspan=\"2\" halign=\"left\">max_heart_rate_achieved</th>\n",
              "      <th colspan=\"2\" halign=\"left\">st_depression</th>\n",
              "      <th colspan=\"2\" halign=\"left\">num_major_vessels</th>\n",
              "      <th colspan=\"2\" halign=\"left\">target</th>\n",
              "    </tr>\n",
              "    <tr>\n",
              "      <th></th>\n",
              "      <th>mean</th>\n",
              "      <th>amax</th>\n",
              "      <th>mean</th>\n",
              "      <th>amax</th>\n",
              "      <th>mean</th>\n",
              "      <th>amax</th>\n",
              "      <th>mean</th>\n",
              "      <th>amax</th>\n",
              "      <th>mean</th>\n",
              "      <th>amax</th>\n",
              "      <th>mean</th>\n",
              "      <th>amax</th>\n",
              "      <th>mean</th>\n",
              "      <th>amax</th>\n",
              "    </tr>\n",
              "    <tr>\n",
              "      <th>rest_ecg</th>\n",
              "      <th></th>\n",
              "      <th></th>\n",
              "      <th></th>\n",
              "      <th></th>\n",
              "      <th></th>\n",
              "      <th></th>\n",
              "      <th></th>\n",
              "      <th></th>\n",
              "      <th></th>\n",
              "      <th></th>\n",
              "      <th></th>\n",
              "      <th></th>\n",
              "      <th></th>\n",
              "      <th></th>\n",
              "    </tr>\n",
              "  </thead>\n",
              "  <tbody>\n",
              "    <tr>\n",
              "      <th>ST-T wave abnormality</th>\n",
              "      <td>52.914474</td>\n",
              "      <td>71</td>\n",
              "      <td>129.065789</td>\n",
              "      <td>180</td>\n",
              "      <td>237.269737</td>\n",
              "      <td>354</td>\n",
              "      <td>151.960526</td>\n",
              "      <td>194</td>\n",
              "      <td>0.879605</td>\n",
              "      <td>5.6</td>\n",
              "      <td>0.638158</td>\n",
              "      <td>4</td>\n",
              "      <td>0.631579</td>\n",
              "      <td>1</td>\n",
              "    </tr>\n",
              "    <tr>\n",
              "      <th>left ventricular hypertrophy</th>\n",
              "      <td>61.000000</td>\n",
              "      <td>76</td>\n",
              "      <td>140.500000</td>\n",
              "      <td>180</td>\n",
              "      <td>261.750000</td>\n",
              "      <td>327</td>\n",
              "      <td>125.750000</td>\n",
              "      <td>140</td>\n",
              "      <td>2.725000</td>\n",
              "      <td>4.4</td>\n",
              "      <td>1.000000</td>\n",
              "      <td>3</td>\n",
              "      <td>0.250000</td>\n",
              "      <td>1</td>\n",
              "    </tr>\n",
              "    <tr>\n",
              "      <th>normal</th>\n",
              "      <td>55.687075</td>\n",
              "      <td>77</td>\n",
              "      <td>134.027211</td>\n",
              "      <td>200</td>\n",
              "      <td>255.142857</td>\n",
              "      <td>564</td>\n",
              "      <td>147.904762</td>\n",
              "      <td>202</td>\n",
              "      <td>1.159184</td>\n",
              "      <td>6.2</td>\n",
              "      <td>0.816327</td>\n",
              "      <td>4</td>\n",
              "      <td>0.462585</td>\n",
              "      <td>1</td>\n",
              "    </tr>\n",
              "  </tbody>\n",
              "</table>\n",
              "</div>"
            ],
            "text/plain": [
              "                                    age       ...    target     \n",
              "                                   mean amax  ...      mean amax\n",
              "rest_ecg                                      ...               \n",
              "ST-T wave abnormality         52.914474   71  ...  0.631579    1\n",
              "left ventricular hypertrophy  61.000000   76  ...  0.250000    1\n",
              "normal                        55.687075   77  ...  0.462585    1\n",
              "\n",
              "[3 rows x 14 columns]"
            ]
          },
          "metadata": {
            "tags": []
          },
          "execution_count": 119
        }
      ]
    },
    {
      "cell_type": "code",
      "metadata": {
        "id": "arnDa_LHKnzB",
        "colab_type": "code",
        "colab": {}
      },
      "source": [
        "## Ваш ответ:"
      ],
      "execution_count": 0,
      "outputs": []
    },
    {
      "cell_type": "markdown",
      "metadata": {
        "id": "95gZoP2bKnzD",
        "colab_type": "text"
      },
      "source": [
        "**Посчитайте у кого уровень депрессии при физический нагрузке выше (в среднем), среди мужчин страдающих болезнью сердца или среди женщин не страдающих болезнью сердца (st_depression)**"
      ]
    },
    {
      "cell_type": "code",
      "metadata": {
        "id": "hqV3sotIKnzE",
        "colab_type": "code",
        "outputId": "61ac50f7-034f-45cb-d3b8-554422cdc2eb",
        "colab": {
          "base_uri": "https://localhost:8080/",
          "height": 55
        }
      },
      "source": [
        "## Ваш код\n",
        "print(data[(data.sex == 'male') & (data.target == 1)].st_depression.mean())\n",
        "print(data[(data.sex == 'female') & (data.target == 0)].st_depression.mean())\n"
      ],
      "execution_count": 0,
      "outputs": [
        {
          "output_type": "stream",
          "text": [
            "0.6053763440860216\n",
            "1.8416666666666666\n"
          ],
          "name": "stdout"
        }
      ]
    },
    {
      "cell_type": "code",
      "metadata": {
        "id": "F4LzhYXmKnzG",
        "colab_type": "code",
        "colab": {}
      },
      "source": [
        "## Ваш ответ:\n",
        "У женщин не страдающих болезнью сердца уровень депресии выше чем у мужчин страдающих болезнью сердца"
      ],
      "execution_count": 0,
      "outputs": []
    },
    {
      "cell_type": "markdown",
      "metadata": {
        "id": "b_R0JpbxKnzJ",
        "colab_type": "text"
      },
      "source": [
        "**Посчтитайте максимальный и минимальный уровень холестерина для каждого типа chest_pain_type, rest_ecg, thalassemia. Пишите код оптимально, можно использовать циклы**"
      ]
    },
    {
      "cell_type": "code",
      "metadata": {
        "id": "8e1odw8XKnzJ",
        "colab_type": "code",
        "outputId": "a75abcd5-956f-422f-d298-284cb991fc86",
        "colab": {
          "base_uri": "https://localhost:8080/",
          "height": 303
        }
      },
      "source": [
        "## Ваш код\n",
        "for type in ['chest_pain_type','rest_ecg','thalassemia']:\n",
        "  print(data.groupby(type).cholesterol.agg([np.min,np.max]))"
      ],
      "execution_count": 0,
      "outputs": [
        {
          "output_type": "stream",
          "text": [
            "                  amin  amax\n",
            "chest_pain_type             \n",
            "atypical angina    126   564\n",
            "non-anginal pain   182   298\n",
            "typical angina     131   409\n",
            "                              amin  amax\n",
            "rest_ecg                                \n",
            "ST-T wave abnormality          126   354\n",
            "left ventricular hypertrophy   197   327\n",
            "normal                         149   564\n",
            "                   amin  amax\n",
            "thalassemia                  \n",
            "fixed defect        141   417\n",
            "normal              169   318\n",
            "reversable defect   126   564\n"
          ],
          "name": "stdout"
        }
      ]
    },
    {
      "cell_type": "code",
      "metadata": {
        "id": "pUemUZW0KnzM",
        "colab_type": "code",
        "colab": {}
      },
      "source": [
        "## Ваш ответ:"
      ],
      "execution_count": 0,
      "outputs": []
    },
    {
      "cell_type": "markdown",
      "metadata": {
        "id": "PNTOvErlKnzN",
        "colab_type": "text"
      },
      "source": [
        "**Сколько значений может принимать каждый из категориальных признаков?**"
      ]
    },
    {
      "cell_type": "code",
      "metadata": {
        "id": "b9QKuZxjKnzO",
        "colab_type": "code",
        "outputId": "85ebec81-34a3-4e15-891d-1196d2a6cd30",
        "colab": {
          "base_uri": "https://localhost:8080/",
          "height": 169
        }
      },
      "source": [
        "## Ваш код\n",
        "data.describe(include='object').loc['unique']"
      ],
      "execution_count": 0,
      "outputs": [
        {
          "output_type": "execute_result",
          "data": {
            "text/plain": [
              "sex                        2\n",
              "chest_pain_type            3\n",
              "fasting_blood_sugar        2\n",
              "rest_ecg                   3\n",
              "exercise_induced_angina    2\n",
              "st_slope                   2\n",
              "thalassemia                3\n",
              "Name: unique, dtype: object"
            ]
          },
          "metadata": {
            "tags": []
          },
          "execution_count": 41
        }
      ]
    },
    {
      "cell_type": "code",
      "metadata": {
        "id": "fgQquElQKnzQ",
        "colab_type": "code",
        "colab": {}
      },
      "source": [
        "## Ваш ответ:"
      ],
      "execution_count": 0,
      "outputs": []
    },
    {
      "cell_type": "markdown",
      "metadata": {
        "id": "H5tguD6gKnzT",
        "colab_type": "text"
      },
      "source": [
        "**У какого категориального признака наблюдается самый сильный дизбаланс классов?**"
      ]
    },
    {
      "cell_type": "code",
      "metadata": {
        "id": "yJwjdVZdKnzU",
        "colab_type": "code",
        "outputId": "b357fe1c-8d44-42b4-ce52-2c4d070e1545",
        "colab": {
          "base_uri": "https://localhost:8080/",
          "height": 874
        }
      },
      "source": [
        "## Ваш код\n",
        "types = data.describe(include='object').columns\n",
        "for type in types:\n",
        "  print(type)\n",
        "  print(data[type].value_counts(normalize=True),'\\n\\n')"
      ],
      "execution_count": 0,
      "outputs": [
        {
          "output_type": "stream",
          "text": [
            "sex\n",
            "male      0.683168\n",
            "female    0.316832\n",
            "Name: sex, dtype: float64 \n",
            "\n",
            "\n",
            "chest_pain_type\n",
            "typical angina      0.636964\n",
            "atypical angina     0.287129\n",
            "non-anginal pain    0.075908\n",
            "Name: chest_pain_type, dtype: float64 \n",
            "\n",
            "\n",
            "fasting_blood_sugar\n",
            "lower than 120mg/ml      0.851485\n",
            "greater than 120mg/ml    0.148515\n",
            "Name: fasting_blood_sugar, dtype: float64 \n",
            "\n",
            "\n",
            "rest_ecg\n",
            "ST-T wave abnormality           0.501650\n",
            "normal                          0.485149\n",
            "left ventricular hypertrophy    0.013201\n",
            "Name: rest_ecg, dtype: float64 \n",
            "\n",
            "\n",
            "exercise_induced_angina\n",
            "no     0.673267\n",
            "yes    0.326733\n",
            "Name: exercise_induced_angina, dtype: float64 \n",
            "\n",
            "\n",
            "st_slope\n",
            "upsloping    0.531353\n",
            "flat         0.468647\n",
            "Name: st_slope, dtype: float64 \n",
            "\n",
            "\n",
            "thalassemia\n",
            "fixed defect         0.547855\n",
            "reversable defect    0.386139\n",
            "normal               0.066007\n",
            "Name: thalassemia, dtype: float64 \n",
            "\n",
            "\n"
          ],
          "name": "stdout"
        }
      ]
    },
    {
      "cell_type": "code",
      "metadata": {
        "id": "F5G_hE0VKnzV",
        "colab_type": "code",
        "colab": {}
      },
      "source": [
        "## Ваш ответ:\n",
        "fasting_blood_sugar - Самый сильный дисбаланс классов >60%"
      ],
      "execution_count": 0,
      "outputs": []
    },
    {
      "cell_type": "markdown",
      "metadata": {
        "id": "TYPZCbyTKnzZ",
        "colab_type": "text"
      },
      "source": [
        "---"
      ]
    },
    {
      "cell_type": "markdown",
      "metadata": {
        "id": "1COs7QbXKnzZ",
        "colab_type": "text"
      },
      "source": [
        "@Booster\n",
        "Мамкин Data Scientist\n",
        "\n",
        "tg @mommyscience"
      ]
    }
  ]
}