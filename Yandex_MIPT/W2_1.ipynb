{
 "cells": [
  {
   "cell_type": "markdown",
   "metadata": {},
   "source": [
    "Импортируем библиотеки"
   ]
  },
  {
   "cell_type": "code",
   "execution_count": 78,
   "metadata": {},
   "outputs": [],
   "source": [
    "import numpy as np\n",
    "from scipy.spatial import distance\n",
    "import re\n",
    "from collections import OrderedDict"
   ]
  },
  {
   "cell_type": "markdown",
   "metadata": {},
   "source": [
    "Считываем файл и делаем словарь"
   ]
  },
  {
   "cell_type": "code",
   "execution_count": 79,
   "metadata": {},
   "outputs": [],
   "source": [
    "f_in = open('sentences.txt') \n",
    "dictionary = {}\n",
    "counter = 0\n",
    "text = []\n",
    "for line in f_in.readlines():\n",
    "    line = line.lower()\n",
    "    line = [i for i in re.split('[^a-z]', line) if i != '']\n",
    "    text.append(line)\n",
    "    for i in line:\n",
    "        if i not in dictionary.keys():\n",
    "            dictionary[i] = counter\n",
    "            counter += 1"
   ]
  },
  {
   "cell_type": "markdown",
   "metadata": {},
   "source": [
    "Мутим матрицу"
   ]
  },
  {
   "cell_type": "code",
   "execution_count": 80,
   "metadata": {},
   "outputs": [],
   "source": [
    "matrix = np.zeros((len(text),len(dictionary)))"
   ]
  },
  {
   "cell_type": "markdown",
   "metadata": {},
   "source": [
    "Проверяем матрицу"
   ]
  },
  {
   "cell_type": "code",
   "execution_count": 81,
   "metadata": {},
   "outputs": [
    {
     "name": "stdout",
     "output_type": "stream",
     "text": [
      "(22, 254)\n"
     ]
    }
   ],
   "source": [
    "print(matrix.shape)"
   ]
  },
  {
   "cell_type": "markdown",
   "metadata": {},
   "source": [
    "Заполняем матрицу"
   ]
  },
  {
   "cell_type": "code",
   "execution_count": 82,
   "metadata": {},
   "outputs": [],
   "source": [
    "for key, val in dictionary.items():\n",
    "    for line in text:\n",
    "        matrix[text.index(line)][val] = line.count(key)"
   ]
  },
  {
   "cell_type": "markdown",
   "metadata": {},
   "source": [
    "Считаем растояние и заносим результат в словарик"
   ]
  },
  {
   "cell_type": "code",
   "execution_count": 83,
   "metadata": {},
   "outputs": [],
   "source": [
    "cos_dist = {}\n",
    "for i in range(len(matrix)):\n",
    "    cos_dist[i] = distance.cosine(matrix[0],matrix[i])"
   ]
  },
  {
   "cell_type": "markdown",
   "metadata": {},
   "source": [
    "Ну и чтобы глазики не ломать отсортируем словарик по значениям и первые два - наш ответ!"
   ]
  },
  {
   "cell_type": "code",
   "execution_count": 84,
   "metadata": {},
   "outputs": [
    {
     "data": {
      "text/plain": [
       "OrderedDict([(0, 0.0),\n",
       "             (6, 0.7327387580875756),\n",
       "             (4, 0.7770887149698589),\n",
       "             (21, 0.8250364469440588),\n",
       "             (10, 0.8328165362273942),\n",
       "             (12, 0.8396432548525454),\n",
       "             (16, 0.8406361854220809),\n",
       "             (20, 0.8427572744917122),\n",
       "             (2, 0.8644738145642124),\n",
       "             (13, 0.8703592552895671),\n",
       "             (14, 0.8740118423302576),\n",
       "             (11, 0.8804771390665607),\n",
       "             (8, 0.8842724875284311),\n",
       "             (19, 0.8885443574849294),\n",
       "             (3, 0.8951715163278082),\n",
       "             (9, 0.9055088817476932),\n",
       "             (7, 0.9258750683338899),\n",
       "             (5, 0.9402385695332803),\n",
       "             (15, 0.9442721787424647),\n",
       "             (18, 0.9442721787424647),\n",
       "             (1, 0.9527544408738466),\n",
       "             (17, 0.956644501523794)])"
      ]
     },
     "execution_count": 84,
     "metadata": {},
     "output_type": "execute_result"
    }
   ],
   "source": [
    "OrderedDict(sorted(cos_dist.items(), key=lambda t: t[1]))"
   ]
  },
  {
   "cell_type": "code",
   "execution_count": null,
   "metadata": {},
   "outputs": [],
   "source": []
  }
 ],
 "metadata": {
  "kernelspec": {
   "display_name": "Python 3",
   "language": "python",
   "name": "python3"
  },
  "language_info": {
   "codemirror_mode": {
    "name": "ipython",
    "version": 3
   },
   "file_extension": ".py",
   "mimetype": "text/x-python",
   "name": "python",
   "nbconvert_exporter": "python",
   "pygments_lexer": "ipython3",
   "version": "3.7.3"
  }
 },
 "nbformat": 4,
 "nbformat_minor": 2
}
